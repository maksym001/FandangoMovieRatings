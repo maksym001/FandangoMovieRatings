{
 "cells": [
  {
   "cell_type": "markdown",
   "metadata": {},
   "source": [
    "# Investigating Fandago Movie Ratings #\n",
    "\n",
    "It has been found that Fandago had a bug that inflated movie ratings on their site.\n",
    "\n",
    "This project is to validate if the bug has been fixed and Fandago rating is representative of population (note this was not possible)\n",
    "\n",
    "Revised goal: validate if Fandago rating system changed between years 2015 and 2016"
   ]
  },
  {
   "cell_type": "code",
   "execution_count": 1,
   "metadata": {},
   "outputs": [],
   "source": [
    "# importing libraries and data for the project\n",
    "import pandas as pd\n",
    "import numpy as np\n",
    "\n",
    "orig_comp = pd.read_csv('fandango_score_comparison.csv')\n",
    "dq_comp = pd.read_csv('movie_ratings_16_17.csv')"
   ]
  },
  {
   "cell_type": "code",
   "execution_count": 2,
   "metadata": {
    "scrolled": true
   },
   "outputs": [
    {
     "name": "stdout",
     "output_type": "stream",
     "text": [
      "Info on Data Structure\n",
      "\n",
      "<class 'pandas.core.frame.DataFrame'>\n",
      "RangeIndex: 146 entries, 0 to 145\n",
      "Data columns (total 22 columns):\n",
      " #   Column                      Non-Null Count  Dtype  \n",
      "---  ------                      --------------  -----  \n",
      " 0   FILM                        146 non-null    object \n",
      " 1   RottenTomatoes              146 non-null    int64  \n",
      " 2   RottenTomatoes_User         146 non-null    int64  \n",
      " 3   Metacritic                  146 non-null    int64  \n",
      " 4   Metacritic_User             146 non-null    float64\n",
      " 5   IMDB                        146 non-null    float64\n",
      " 6   Fandango_Stars              146 non-null    float64\n",
      " 7   Fandango_Ratingvalue        146 non-null    float64\n",
      " 8   RT_norm                     146 non-null    float64\n",
      " 9   RT_user_norm                146 non-null    float64\n",
      " 10  Metacritic_norm             146 non-null    float64\n",
      " 11  Metacritic_user_nom         146 non-null    float64\n",
      " 12  IMDB_norm                   146 non-null    float64\n",
      " 13  RT_norm_round               146 non-null    float64\n",
      " 14  RT_user_norm_round          146 non-null    float64\n",
      " 15  Metacritic_norm_round       146 non-null    float64\n",
      " 16  Metacritic_user_norm_round  146 non-null    float64\n",
      " 17  IMDB_norm_round             146 non-null    float64\n",
      " 18  Metacritic_user_vote_count  146 non-null    int64  \n",
      " 19  IMDB_user_vote_count        146 non-null    int64  \n",
      " 20  Fandango_votes              146 non-null    int64  \n",
      " 21  Fandango_Difference         146 non-null    float64\n",
      "dtypes: float64(15), int64(6), object(1)\n",
      "memory usage: 25.2+ KB\n",
      "None\n",
      "-------------------\n",
      "\n",
      "\n",
      "Statistical overview of fields\n",
      "\n",
      "       RottenTomatoes  RottenTomatoes_User  Metacritic  Metacritic_User  \\\n",
      "count      146.000000           146.000000  146.000000       146.000000   \n",
      "mean        60.849315            63.876712   58.808219         6.519178   \n",
      "std         30.168799            20.024430   19.517389         1.510712   \n",
      "min          5.000000            20.000000   13.000000         2.400000   \n",
      "25%         31.250000            50.000000   43.500000         5.700000   \n",
      "50%         63.500000            66.500000   59.000000         6.850000   \n",
      "75%         89.000000            81.000000   75.000000         7.500000   \n",
      "max        100.000000            94.000000   94.000000         9.600000   \n",
      "\n",
      "             IMDB  Fandango_Stars  Fandango_Ratingvalue     RT_norm  \\\n",
      "count  146.000000      146.000000            146.000000  146.000000   \n",
      "mean     6.736986        4.089041              3.845205    3.042466   \n",
      "std      0.958736        0.540386              0.502831    1.508440   \n",
      "min      4.000000        3.000000              2.700000    0.250000   \n",
      "25%      6.300000        3.500000              3.500000    1.562500   \n",
      "50%      6.900000        4.000000              3.900000    3.175000   \n",
      "75%      7.400000        4.500000              4.200000    4.450000   \n",
      "max      8.600000        5.000000              4.800000    5.000000   \n",
      "\n",
      "       RT_user_norm  Metacritic_norm  ...   IMDB_norm  RT_norm_round  \\\n",
      "count    146.000000       146.000000  ...  146.000000     146.000000   \n",
      "mean       3.193836         2.940411  ...    3.368493       3.065068   \n",
      "std        1.001222         0.975869  ...    0.479368       1.514600   \n",
      "min        1.000000         0.650000  ...    2.000000       0.500000   \n",
      "25%        2.500000         2.175000  ...    3.150000       1.500000   \n",
      "50%        3.325000         2.950000  ...    3.450000       3.000000   \n",
      "75%        4.050000         3.750000  ...    3.700000       4.500000   \n",
      "max        4.700000         4.700000  ...    4.300000       5.000000   \n",
      "\n",
      "       RT_user_norm_round  Metacritic_norm_round  Metacritic_user_norm_round  \\\n",
      "count          146.000000             146.000000                  146.000000   \n",
      "mean             3.226027               2.972603                    3.270548   \n",
      "std              1.007014               0.990961                    0.788116   \n",
      "min              1.000000               0.500000                    1.000000   \n",
      "25%              2.500000               2.125000                    3.000000   \n",
      "50%              3.500000               3.000000                    3.500000   \n",
      "75%              4.000000               4.000000                    4.000000   \n",
      "max              4.500000               4.500000                    5.000000   \n",
      "\n",
      "       IMDB_norm_round  Metacritic_user_vote_count  IMDB_user_vote_count  \\\n",
      "count       146.000000                  146.000000            146.000000   \n",
      "mean          3.380137                  185.705479          42846.205479   \n",
      "std           0.502767                  316.606515          67406.509171   \n",
      "min           2.000000                    4.000000            243.000000   \n",
      "25%           3.000000                   33.250000           5627.000000   \n",
      "50%           3.500000                   72.500000          19103.000000   \n",
      "75%           3.500000                  168.500000          45185.750000   \n",
      "max           4.500000                 2375.000000         334164.000000   \n",
      "\n",
      "       Fandango_votes  Fandango_Difference  \n",
      "count      146.000000           146.000000  \n",
      "mean      3848.787671             0.243836  \n",
      "std       6357.778617             0.152665  \n",
      "min         35.000000             0.000000  \n",
      "25%        222.250000             0.100000  \n",
      "50%       1446.000000             0.200000  \n",
      "75%       4439.500000             0.400000  \n",
      "max      34846.000000             0.500000  \n",
      "\n",
      "[8 rows x 21 columns]\n",
      "-------------------\n",
      "\n",
      "\n",
      "Sample Data\n",
      "\n",
      "                        FILM  RottenTomatoes  RottenTomatoes_User  Metacritic  \\\n",
      "9        Love & Mercy (2015)              89                   87          80   \n",
      "34              Aloha (2015)              19                   31          40   \n",
      "65            Birdman (2014)              92                   78          88   \n",
      "5   The Water Diviner (2015)              63                   62          50   \n",
      "23      Run All Night (2015)              60                   59          59   \n",
      "\n",
      "    Metacritic_User  IMDB  Fandango_Stars  Fandango_Ratingvalue  RT_norm  \\\n",
      "9               8.5   7.8             4.5                   4.0     4.45   \n",
      "34              4.0   5.5             3.5                   3.1     0.95   \n",
      "65              8.0   7.9             4.0                   3.7     4.60   \n",
      "5               6.8   7.2             4.5                   4.0     3.15   \n",
      "23              7.3   6.6             4.5                   4.1     3.00   \n",
      "\n",
      "    RT_user_norm  ...  IMDB_norm  RT_norm_round  RT_user_norm_round  \\\n",
      "9           4.35  ...       3.90            4.5                 4.5   \n",
      "34          1.55  ...       2.75            1.0                 1.5   \n",
      "65          3.90  ...       3.95            4.5                 4.0   \n",
      "5           3.10  ...       3.60            3.0                 3.0   \n",
      "23          2.95  ...       3.30            3.0                 3.0   \n",
      "\n",
      "    Metacritic_norm_round  Metacritic_user_norm_round  IMDB_norm_round  \\\n",
      "9                     4.0                         4.5              4.0   \n",
      "34                    2.0                         2.0              3.0   \n",
      "65                    4.5                         4.0              4.0   \n",
      "5                     2.5                         3.5              3.5   \n",
      "23                    3.0                         3.5              3.5   \n",
      "\n",
      "    Metacritic_user_vote_count  IMDB_user_vote_count  Fandango_votes  \\\n",
      "9                           54                  5367             864   \n",
      "34                          67                 12255            2284   \n",
      "65                        1171                303505            4194   \n",
      "5                           34                 39373             397   \n",
      "23                         141                 50438            2066   \n",
      "\n",
      "    Fandango_Difference  \n",
      "9                   0.5  \n",
      "34                  0.4  \n",
      "65                  0.3  \n",
      "5                   0.5  \n",
      "23                  0.4  \n",
      "\n",
      "[5 rows x 22 columns]\n",
      "-------------------\n",
      "-------------------\n"
     ]
    }
   ],
   "source": [
    "print('Info on Data Structure\\n')\n",
    "print(orig_comp.info())\n",
    "print('-------------------\\n\\n')\n",
    "print('Statistical overview of fields\\n')\n",
    "print(orig_comp.describe())\n",
    "print('-------------------\\n\\n')\n",
    "print('Sample Data\\n')\n",
    "print(orig_comp.sample(5))\n",
    "print('-------------------')\n",
    "print('-------------------')"
   ]
  },
  {
   "cell_type": "code",
   "execution_count": 3,
   "metadata": {
    "scrolled": true
   },
   "outputs": [
    {
     "name": "stdout",
     "output_type": "stream",
     "text": [
      "Info on Data Structure\n",
      "\n",
      "<class 'pandas.core.frame.DataFrame'>\n",
      "RangeIndex: 214 entries, 0 to 213\n",
      "Data columns (total 15 columns):\n",
      " #   Column        Non-Null Count  Dtype  \n",
      "---  ------        --------------  -----  \n",
      " 0   movie         214 non-null    object \n",
      " 1   year          214 non-null    int64  \n",
      " 2   metascore     214 non-null    int64  \n",
      " 3   imdb          214 non-null    float64\n",
      " 4   tmeter        214 non-null    int64  \n",
      " 5   audience      214 non-null    int64  \n",
      " 6   fandango      214 non-null    float64\n",
      " 7   n_metascore   214 non-null    float64\n",
      " 8   n_imdb        214 non-null    float64\n",
      " 9   n_tmeter      214 non-null    float64\n",
      " 10  n_audience    214 non-null    float64\n",
      " 11  nr_metascore  214 non-null    float64\n",
      " 12  nr_imdb       214 non-null    float64\n",
      " 13  nr_tmeter     214 non-null    float64\n",
      " 14  nr_audience   214 non-null    float64\n",
      "dtypes: float64(10), int64(4), object(1)\n",
      "memory usage: 25.2+ KB\n",
      "None\n",
      "-------------------\n",
      "\n",
      "\n",
      "Statistical overview of fields\n",
      "\n",
      "              year   metascore        imdb      tmeter    audience  \\\n",
      "count   214.000000  214.000000  214.000000  214.000000  214.000000   \n",
      "mean   2016.107477   53.266355    6.440654   53.621495   58.626168   \n",
      "std       0.310444   17.843585    1.030056   30.242396   21.100040   \n",
      "min    2016.000000   11.000000    3.500000    0.000000   11.000000   \n",
      "25%    2016.000000   39.000000    5.825000   27.000000   43.250000   \n",
      "50%    2016.000000   53.500000    6.500000   56.500000   60.500000   \n",
      "75%    2016.000000   66.000000    7.200000   83.000000   76.750000   \n",
      "max    2017.000000   99.000000    8.500000   99.000000   93.000000   \n",
      "\n",
      "         fandango  n_metascore      n_imdb    n_tmeter  n_audience  \\\n",
      "count  214.000000   214.000000  214.000000  214.000000  214.000000   \n",
      "mean     3.894860     2.663318    3.220327    2.681075    2.931308   \n",
      "std      0.516781     0.892179    0.515028    1.512120    1.055002   \n",
      "min      2.500000     0.550000    1.750000    0.000000    0.550000   \n",
      "25%      3.500000     1.950000    2.912500    1.350000    2.162500   \n",
      "50%      4.000000     2.675000    3.250000    2.825000    3.025000   \n",
      "75%      4.500000     3.300000    3.600000    4.150000    3.837500   \n",
      "max      5.000000     4.950000    4.250000    4.950000    4.650000   \n",
      "\n",
      "       nr_metascore     nr_imdb   nr_tmeter  nr_audience  \n",
      "count    214.000000  214.000000  214.000000   214.000000  \n",
      "mean       2.658879    3.214953    2.691589     2.915888  \n",
      "std        0.924619    0.526803    1.519273     1.060352  \n",
      "min        0.500000    2.000000    0.000000     0.500000  \n",
      "25%        2.000000    3.000000    1.500000     2.000000  \n",
      "50%        2.500000    3.000000    3.000000     3.000000  \n",
      "75%        3.500000    3.500000    4.000000     4.000000  \n",
      "max        5.000000    4.000000    5.000000     4.500000  \n",
      "-------------------\n",
      "\n",
      "\n",
      "Sample Data\n",
      "\n",
      "                                  movie  year  metascore  imdb  tmeter  \\\n",
      "185               The LEGO Batman Movie  2017         75   7.6      91   \n",
      "29                          Cabin Fever  2016         14   3.7       0   \n",
      "7       Alice Through the Looking Glass  2016         34   6.2      30   \n",
      "18   Batman V Superman: Dawn of Justice  2016         44   6.7      27   \n",
      "72                                 Hush  2016         67   6.6      94   \n",
      "\n",
      "     audience  fandango  n_metascore  n_imdb  n_tmeter  n_audience  \\\n",
      "185        83       4.5         3.75    3.80      4.55        4.15   \n",
      "29         11       4.0         0.70    1.85      0.00        0.55   \n",
      "7          50       4.0         1.70    3.10      1.50        2.50   \n",
      "18         63       4.0         2.20    3.35      1.35        3.15   \n",
      "72         74       4.0         3.35    3.30      4.70        3.70   \n",
      "\n",
      "     nr_metascore  nr_imdb  nr_tmeter  nr_audience  \n",
      "185           4.0      4.0        4.5          4.0  \n",
      "29            0.5      2.0        0.0          0.5  \n",
      "7             1.5      3.0        1.5          2.5  \n",
      "18            2.0      3.5        1.5          3.0  \n",
      "72            3.5      3.5        4.5          3.5  \n",
      "-------------------\n",
      "-------------------\n"
     ]
    }
   ],
   "source": [
    "print('Info on Data Structure\\n')\n",
    "print(dq_comp.info())\n",
    "print('-------------------\\n\\n')\n",
    "print('Statistical overview of fields\\n')\n",
    "print(dq_comp.describe())\n",
    "print('-------------------\\n\\n')\n",
    "print('Sample Data\\n')\n",
    "print(dq_comp.sample(5))\n",
    "print('-------------------')\n",
    "print('-------------------')"
   ]
  },
  {
   "cell_type": "code",
   "execution_count": 4,
   "metadata": {
    "scrolled": true
   },
   "outputs": [
    {
     "name": "stdout",
     "output_type": "stream",
     "text": [
      "Original Ratings - selected columns\n",
      "\n",
      "                             FILM  Fandango_Stars  Fandango_Ratingvalue  \\\n",
      "0  Avengers: Age of Ultron (2015)             5.0                   4.5   \n",
      "1               Cinderella (2015)             5.0                   4.5   \n",
      "2                  Ant-Man (2015)             5.0                   4.5   \n",
      "3          Do You Believe? (2015)             5.0                   4.5   \n",
      "4   Hot Tub Time Machine 2 (2015)             3.5                   3.0   \n",
      "\n",
      "   Fandango_votes  Fandango_Difference  \n",
      "0           14846                  0.5  \n",
      "1           12640                  0.5  \n",
      "2           12055                  0.5  \n",
      "3            1793                  0.5  \n",
      "4            1021                  0.5  \n",
      "-------------------\n",
      "\n",
      "New Ratings - selected columns\n",
      "\n",
      "                     movie  year  fandango\n",
      "0      10 Cloverfield Lane  2016       3.5\n",
      "1                 13 Hours  2016       4.5\n",
      "2      A Cure for Wellness  2016       3.0\n",
      "3          A Dog's Purpose  2017       4.5\n",
      "4  A Hologram for the King  2016       3.0\n",
      "-------------------\n"
     ]
    }
   ],
   "source": [
    "orig_ratings = orig_comp[['FILM', 'Fandango_Stars', 'Fandango_Ratingvalue', 'Fandango_votes', 'Fandango_Difference']].copy()\n",
    "new_ratings = dq_comp[['movie', 'year', 'fandango']].copy()\n",
    "\n",
    "print('Original Ratings - selected columns\\n')\n",
    "print(orig_ratings.head())\n",
    "print('-------------------\\n')\n",
    "print('New Ratings - selected columns\\n')\n",
    "print(new_ratings.head())\n",
    "print('-------------------')"
   ]
  },
  {
   "cell_type": "markdown",
   "metadata": {},
   "source": [
    "## Note about Sampling##\n",
    "\n",
    "\n",
    "The both original and 2017 sampling are subjective:\n",
    "\n",
    "- both sample only for one year which potentially is not sufficient as some years have better movies than others\n",
    "- original only included movies that had 30 reviews or more\n",
    "- 2016 selection criteria was not quantified\n",
    "\n",
    "## Adjusting Research Goal ##\n",
    "\n",
    "Revised goal: validate if Fandago rating system changed between years 2015 and 2016.\n",
    "\n",
    "Since there is no direct way to adjust the samples given 2016 data don't contain user ratings.\n",
    "\n",
    "To work around and confirm our confidence without quantitatively defining it:\n",
    "- we can assume that on average most of the moviews have more than 30 reviews  \n",
    "- to validate assumption we randomly select movies are popular in original data.  If random sample has moviews with more than 30 reviews we can deduct that random sample of 2016 movies indeed would contain more than 30 reviews\n",
    "\n"
   ]
  },
  {
   "cell_type": "code",
   "execution_count": 5,
   "metadata": {},
   "outputs": [
    {
     "data": {
      "text/html": [
       "<div>\n",
       "<style scoped>\n",
       "    .dataframe tbody tr th:only-of-type {\n",
       "        vertical-align: middle;\n",
       "    }\n",
       "\n",
       "    .dataframe tbody tr th {\n",
       "        vertical-align: top;\n",
       "    }\n",
       "\n",
       "    .dataframe thead th {\n",
       "        text-align: right;\n",
       "    }\n",
       "</style>\n",
       "<table border=\"1\" class=\"dataframe\">\n",
       "  <thead>\n",
       "    <tr style=\"text-align: right;\">\n",
       "      <th></th>\n",
       "      <th>FILM</th>\n",
       "      <th>Fandango_Stars</th>\n",
       "      <th>Fandango_Ratingvalue</th>\n",
       "      <th>Fandango_votes</th>\n",
       "      <th>Fandango_Difference</th>\n",
       "    </tr>\n",
       "  </thead>\n",
       "  <tbody>\n",
       "    <tr>\n",
       "      <th>91</th>\n",
       "      <td>Paddington (2015)</td>\n",
       "      <td>4.5</td>\n",
       "      <td>4.3</td>\n",
       "      <td>4045</td>\n",
       "      <td>0.2</td>\n",
       "    </tr>\n",
       "    <tr>\n",
       "      <th>126</th>\n",
       "      <td>Woman in Gold (2015)</td>\n",
       "      <td>4.5</td>\n",
       "      <td>4.4</td>\n",
       "      <td>2435</td>\n",
       "      <td>0.1</td>\n",
       "    </tr>\n",
       "    <tr>\n",
       "      <th>3</th>\n",
       "      <td>Do You Believe? (2015)</td>\n",
       "      <td>5.0</td>\n",
       "      <td>4.5</td>\n",
       "      <td>1793</td>\n",
       "      <td>0.5</td>\n",
       "    </tr>\n",
       "    <tr>\n",
       "      <th>35</th>\n",
       "      <td>The Loft (2015)</td>\n",
       "      <td>4.0</td>\n",
       "      <td>3.6</td>\n",
       "      <td>811</td>\n",
       "      <td>0.4</td>\n",
       "    </tr>\n",
       "    <tr>\n",
       "      <th>123</th>\n",
       "      <td>Magic Mike XXL (2015)</td>\n",
       "      <td>4.5</td>\n",
       "      <td>4.4</td>\n",
       "      <td>9363</td>\n",
       "      <td>0.1</td>\n",
       "    </tr>\n",
       "    <tr>\n",
       "      <th>82</th>\n",
       "      <td>Blackhat (2015)</td>\n",
       "      <td>3.0</td>\n",
       "      <td>2.8</td>\n",
       "      <td>1430</td>\n",
       "      <td>0.2</td>\n",
       "    </tr>\n",
       "    <tr>\n",
       "      <th>128</th>\n",
       "      <td>Mission: Impossible â€“ Rogue Nation (2015)</td>\n",
       "      <td>4.5</td>\n",
       "      <td>4.4</td>\n",
       "      <td>8357</td>\n",
       "      <td>0.1</td>\n",
       "    </tr>\n",
       "    <tr>\n",
       "      <th>12</th>\n",
       "      <td>Leviathan (2014)</td>\n",
       "      <td>4.0</td>\n",
       "      <td>3.5</td>\n",
       "      <td>64</td>\n",
       "      <td>0.5</td>\n",
       "    </tr>\n",
       "    <tr>\n",
       "      <th>42</th>\n",
       "      <td>About Elly (2015)</td>\n",
       "      <td>4.0</td>\n",
       "      <td>3.6</td>\n",
       "      <td>43</td>\n",
       "      <td>0.4</td>\n",
       "    </tr>\n",
       "    <tr>\n",
       "      <th>125</th>\n",
       "      <td>The Wedding Ringer (2015)</td>\n",
       "      <td>4.5</td>\n",
       "      <td>4.4</td>\n",
       "      <td>6506</td>\n",
       "      <td>0.1</td>\n",
       "    </tr>\n",
       "  </tbody>\n",
       "</table>\n",
       "</div>"
      ],
      "text/plain": [
       "                                            FILM  Fandango_Stars  \\\n",
       "91                             Paddington (2015)             4.5   \n",
       "126                         Woman in Gold (2015)             4.5   \n",
       "3                         Do You Believe? (2015)             5.0   \n",
       "35                               The Loft (2015)             4.0   \n",
       "123                        Magic Mike XXL (2015)             4.5   \n",
       "82                               Blackhat (2015)             3.0   \n",
       "128  Mission: Impossible â€“ Rogue Nation (2015)             4.5   \n",
       "12                              Leviathan (2014)             4.0   \n",
       "42                             About Elly (2015)             4.0   \n",
       "125                    The Wedding Ringer (2015)             4.5   \n",
       "\n",
       "     Fandango_Ratingvalue  Fandango_votes  Fandango_Difference  \n",
       "91                    4.3            4045                  0.2  \n",
       "126                   4.4            2435                  0.1  \n",
       "3                     4.5            1793                  0.5  \n",
       "35                    3.6             811                  0.4  \n",
       "123                   4.4            9363                  0.1  \n",
       "82                    2.8            1430                  0.2  \n",
       "128                   4.4            8357                  0.1  \n",
       "12                    3.5              64                  0.5  \n",
       "42                    3.6              43                  0.4  \n",
       "125                   4.4            6506                  0.1  "
      ]
     },
     "execution_count": 5,
     "metadata": {},
     "output_type": "execute_result"
    }
   ],
   "source": [
    "orig_ratings.sample(10,random_state=2)"
   ]
  },
  {
   "cell_type": "code",
   "execution_count": 6,
   "metadata": {},
   "outputs": [
    {
     "data": {
      "text/plain": [
       "count      146.000000\n",
       "mean      3848.787671\n",
       "std       6357.778617\n",
       "min         35.000000\n",
       "25%        222.250000\n",
       "50%       1446.000000\n",
       "75%       4439.500000\n",
       "max      34846.000000\n",
       "Name: Fandango_votes, dtype: float64"
      ]
     },
     "execution_count": 6,
     "metadata": {},
     "output_type": "execute_result"
    }
   ],
   "source": [
    "orig_ratings['Fandango_votes'].describe()"
   ]
  },
  {
   "cell_type": "code",
   "execution_count": 7,
   "metadata": {},
   "outputs": [],
   "source": [
    "new_ratings_2016 = new_ratings[new_ratings['year']==2016].copy()"
   ]
  },
  {
   "cell_type": "code",
   "execution_count": 8,
   "metadata": {},
   "outputs": [
    {
     "data": {
      "text/plain": [
       "2016    191\n",
       "Name: year, dtype: int64"
      ]
     },
     "execution_count": 8,
     "metadata": {},
     "output_type": "execute_result"
    }
   ],
   "source": [
    "new_ratings_2016['year'].value_counts()\n"
   ]
  },
  {
   "cell_type": "code",
   "execution_count": 9,
   "metadata": {},
   "outputs": [],
   "source": [
    "# %%timeit\n",
    "# (orig_ratings['FILM']).str.slice(start=-5, stop=-1, step=1)\n",
    "\n",
    "# 183 µs ± 1.86 µs per loop (mean ± std. dev. of 7 runs, 10000 loops each)"
   ]
  },
  {
   "cell_type": "code",
   "execution_count": 10,
   "metadata": {},
   "outputs": [],
   "source": [
    "# %%timeit\n",
    "# pattern = r'(?<=\\()(\\d\\d\\d\\d)(?=\\))'\n",
    "# orig_ratings['FILM'].str.extract(pattern)\n",
    "# 431 µs ± 4.84 µs per loop (mean ± std. dev. of 7 runs, 1000 loops each)"
   ]
  },
  {
   "cell_type": "code",
   "execution_count": 11,
   "metadata": {},
   "outputs": [],
   "source": [
    "# %%timeit\n",
    "# pattern = r'(?<=\\()([\\d]+)(?=\\))'\n",
    "# orig_ratings['FILM'].str.extract(pattern)\n",
    "# 433 µs ± 2.16 µs per loop (mean ± std. dev. of 7 runs, 1000 loops each)"
   ]
  },
  {
   "cell_type": "code",
   "execution_count": 12,
   "metadata": {},
   "outputs": [
    {
     "data": {
      "text/plain": [
       "2015    129\n",
       "Name: year, dtype: int64"
      ]
     },
     "execution_count": 12,
     "metadata": {},
     "output_type": "execute_result"
    }
   ],
   "source": [
    "# orig_ratings_2015 = orig_ratings.loc[orig_ratings['FILM'].str.slice(start=-5, stop=-1, step=1) == '2015']\n",
    "orig_ratings['year'] = (orig_ratings['FILM'].str.slice(start=-5, stop=-1, step=1)).astype(int)\n",
    "orig_ratings_2015 = orig_ratings.loc[orig_ratings['year']==2015].copy()\n",
    "orig_ratings_2015['year'].value_counts()"
   ]
  },
  {
   "cell_type": "code",
   "execution_count": 13,
   "metadata": {},
   "outputs": [
    {
     "data": {
      "text/html": [
       "<div>\n",
       "<style scoped>\n",
       "    .dataframe tbody tr th:only-of-type {\n",
       "        vertical-align: middle;\n",
       "    }\n",
       "\n",
       "    .dataframe tbody tr th {\n",
       "        vertical-align: top;\n",
       "    }\n",
       "\n",
       "    .dataframe thead th {\n",
       "        text-align: right;\n",
       "    }\n",
       "</style>\n",
       "<table border=\"1\" class=\"dataframe\">\n",
       "  <thead>\n",
       "    <tr style=\"text-align: right;\">\n",
       "      <th></th>\n",
       "      <th>FILM</th>\n",
       "      <th>Fandango_Stars</th>\n",
       "      <th>Fandango_Ratingvalue</th>\n",
       "      <th>Fandango_votes</th>\n",
       "      <th>Fandango_Difference</th>\n",
       "      <th>year</th>\n",
       "    </tr>\n",
       "  </thead>\n",
       "  <tbody>\n",
       "    <tr>\n",
       "      <th>0</th>\n",
       "      <td>Avengers: Age of Ultron (2015)</td>\n",
       "      <td>5.0</td>\n",
       "      <td>4.5</td>\n",
       "      <td>14846</td>\n",
       "      <td>0.5</td>\n",
       "      <td>2015</td>\n",
       "    </tr>\n",
       "    <tr>\n",
       "      <th>1</th>\n",
       "      <td>Cinderella (2015)</td>\n",
       "      <td>5.0</td>\n",
       "      <td>4.5</td>\n",
       "      <td>12640</td>\n",
       "      <td>0.5</td>\n",
       "      <td>2015</td>\n",
       "    </tr>\n",
       "    <tr>\n",
       "      <th>2</th>\n",
       "      <td>Ant-Man (2015)</td>\n",
       "      <td>5.0</td>\n",
       "      <td>4.5</td>\n",
       "      <td>12055</td>\n",
       "      <td>0.5</td>\n",
       "      <td>2015</td>\n",
       "    </tr>\n",
       "    <tr>\n",
       "      <th>3</th>\n",
       "      <td>Do You Believe? (2015)</td>\n",
       "      <td>5.0</td>\n",
       "      <td>4.5</td>\n",
       "      <td>1793</td>\n",
       "      <td>0.5</td>\n",
       "      <td>2015</td>\n",
       "    </tr>\n",
       "    <tr>\n",
       "      <th>4</th>\n",
       "      <td>Hot Tub Time Machine 2 (2015)</td>\n",
       "      <td>3.5</td>\n",
       "      <td>3.0</td>\n",
       "      <td>1021</td>\n",
       "      <td>0.5</td>\n",
       "      <td>2015</td>\n",
       "    </tr>\n",
       "    <tr>\n",
       "      <th>...</th>\n",
       "      <td>...</td>\n",
       "      <td>...</td>\n",
       "      <td>...</td>\n",
       "      <td>...</td>\n",
       "      <td>...</td>\n",
       "      <td>...</td>\n",
       "    </tr>\n",
       "    <tr>\n",
       "      <th>140</th>\n",
       "      <td>Inside Out (2015)</td>\n",
       "      <td>4.5</td>\n",
       "      <td>4.5</td>\n",
       "      <td>15749</td>\n",
       "      <td>0.0</td>\n",
       "      <td>2015</td>\n",
       "    </tr>\n",
       "    <tr>\n",
       "      <th>141</th>\n",
       "      <td>Mr. Holmes (2015)</td>\n",
       "      <td>4.0</td>\n",
       "      <td>4.0</td>\n",
       "      <td>1348</td>\n",
       "      <td>0.0</td>\n",
       "      <td>2015</td>\n",
       "    </tr>\n",
       "    <tr>\n",
       "      <th>142</th>\n",
       "      <td>'71 (2015)</td>\n",
       "      <td>3.5</td>\n",
       "      <td>3.5</td>\n",
       "      <td>192</td>\n",
       "      <td>0.0</td>\n",
       "      <td>2015</td>\n",
       "    </tr>\n",
       "    <tr>\n",
       "      <th>144</th>\n",
       "      <td>Gett: The Trial of Viviane Amsalem (2015)</td>\n",
       "      <td>3.5</td>\n",
       "      <td>3.5</td>\n",
       "      <td>59</td>\n",
       "      <td>0.0</td>\n",
       "      <td>2015</td>\n",
       "    </tr>\n",
       "    <tr>\n",
       "      <th>145</th>\n",
       "      <td>Kumiko, The Treasure Hunter (2015)</td>\n",
       "      <td>3.5</td>\n",
       "      <td>3.5</td>\n",
       "      <td>41</td>\n",
       "      <td>0.0</td>\n",
       "      <td>2015</td>\n",
       "    </tr>\n",
       "  </tbody>\n",
       "</table>\n",
       "<p>129 rows × 6 columns</p>\n",
       "</div>"
      ],
      "text/plain": [
       "                                          FILM  Fandango_Stars  \\\n",
       "0               Avengers: Age of Ultron (2015)             5.0   \n",
       "1                            Cinderella (2015)             5.0   \n",
       "2                               Ant-Man (2015)             5.0   \n",
       "3                       Do You Believe? (2015)             5.0   \n",
       "4                Hot Tub Time Machine 2 (2015)             3.5   \n",
       "..                                         ...             ...   \n",
       "140                          Inside Out (2015)             4.5   \n",
       "141                          Mr. Holmes (2015)             4.0   \n",
       "142                                 '71 (2015)             3.5   \n",
       "144  Gett: The Trial of Viviane Amsalem (2015)             3.5   \n",
       "145         Kumiko, The Treasure Hunter (2015)             3.5   \n",
       "\n",
       "     Fandango_Ratingvalue  Fandango_votes  Fandango_Difference  year  \n",
       "0                     4.5           14846                  0.5  2015  \n",
       "1                     4.5           12640                  0.5  2015  \n",
       "2                     4.5           12055                  0.5  2015  \n",
       "3                     4.5            1793                  0.5  2015  \n",
       "4                     3.0            1021                  0.5  2015  \n",
       "..                    ...             ...                  ...   ...  \n",
       "140                   4.5           15749                  0.0  2015  \n",
       "141                   4.0            1348                  0.0  2015  \n",
       "142                   3.5             192                  0.0  2015  \n",
       "144                   3.5              59                  0.0  2015  \n",
       "145                   3.5              41                  0.0  2015  \n",
       "\n",
       "[129 rows x 6 columns]"
      ]
     },
     "execution_count": 13,
     "metadata": {},
     "output_type": "execute_result"
    }
   ],
   "source": [
    "orig_ratings_2015"
   ]
  },
  {
   "cell_type": "code",
   "execution_count": 37,
   "metadata": {},
   "outputs": [
    {
     "data": {
      "image/png": "[encoded data removed]",
      "text/plain": [
       "<Figure size 576x432 with 1 Axes>"
      ]
     },
     "metadata": {
      "needs_background": "light"
     },
     "output_type": "display_data"
    }
   ],
   "source": [
    "import matplotlib.pyplot as plt\n",
    "plt.style.use('fivethirtyeight')\n",
    "%matplotlib inline\n",
    "\n",
    "orig_ratings_2015['Fandango_Stars'].plot.kde(label='Fandago 2015', legend=True, figsize=(8,6),xlim=(0,5))\n",
    "new_ratings_2016['fandango'].plot.kde(label='Fandago 2016', legend=True)\n",
    "plt.xticks([0, 0.5, 1.0, 1.5, 2.0, 2.5, 3.0, 3.5, 4.0, 4.5, 5.0])\n",
    "plt.title('Fandago Ratings 2015 vs 2016', fontsize=18)\n",
    "plt.xlabel('Stars')\n",
    "plt.show()"
   ]
  },
  {
   "cell_type": "markdown",
   "metadata": {},
   "source": [
    "## Observations ##\n",
    "\n",
    "The ratings for both years are left skewed indicating that most of the reviews are favourable.\n",
    "\n",
    "Overall Fandago ratings for both years look very similar with movies peaking at 4 stars in 2016 rather than leaning over 4 starts the year before.  Also the 2016 tail extened longer towards 1 star rating.  \n",
    "\n",
    "We cannot conslusively say whether the difference is significant enough to attribute it to changing algorithm or rather the difference is a result of different quality of movies in 2016.\n",
    "\n",
    "\n"
   ]
  },
  {
   "cell_type": "code",
   "execution_count": 38,
   "metadata": {},
   "outputs": [
    {
     "data": {
      "text/plain": [
       "(2.9970000000000003, 3.4]     8.527132\n",
       "(3.4, 3.8]                   17.829457\n",
       "(3.8, 4.2]                   28.682171\n",
       "(4.2, 4.6]                   37.984496\n",
       "(4.6, 5.0]                    6.976744\n",
       "Name: Fandango_Stars, dtype: float64"
      ]
     },
     "execution_count": 38,
     "metadata": {},
     "output_type": "execute_result"
    }
   ],
   "source": [
    "(orig_ratings_2015['Fandango_Stars'].value_counts(bins=5,normalize=True)*100).sort_index()"
   ]
  },
  {
   "cell_type": "code",
   "execution_count": 39,
   "metadata": {},
   "outputs": [
    {
     "data": {
      "text/plain": [
       "(2.4970000000000003, 3.0]    10.471204\n",
       "(3.0, 3.5]                   24.083770\n",
       "(3.5, 4.0]                   40.314136\n",
       "(4.0, 4.5]                   24.607330\n",
       "(4.5, 5.0]                    0.523560\n",
       "Name: fandango, dtype: float64"
      ]
     },
     "execution_count": 39,
     "metadata": {},
     "output_type": "execute_result"
    }
   ],
   "source": [
    "(new_ratings_2016['fandango'].value_counts(bins=5,normalize=True)*100).sort_index()"
   ]
  },
  {
   "cell_type": "code",
   "execution_count": 40,
   "metadata": {},
   "outputs": [
    {
     "name": "stdout",
     "output_type": "stream",
     "text": [
      "4.0\n"
     ]
    },
    {
     "data": {
      "text/plain": [
       "55.03875968992248"
      ]
     },
     "execution_count": 40,
     "metadata": {},
     "output_type": "execute_result"
    }
   ],
   "source": [
    "from scipy.stats import percentileofscore\n",
    "\n",
    "print(np.percentile(orig_ratings_2015['Fandango_Stars'], 50))\n",
    "percentileofscore(a=orig_ratings_2015['Fandango_Stars'], score=4, kind='weak')"
   ]
  },
  {
   "cell_type": "code",
   "execution_count": 41,
   "metadata": {},
   "outputs": [
    {
     "name": "stdout",
     "output_type": "stream",
     "text": [
      "4.0\n"
     ]
    },
    {
     "data": {
      "text/plain": [
       "74.86910994764398"
      ]
     },
     "execution_count": 41,
     "metadata": {},
     "output_type": "execute_result"
    }
   ],
   "source": [
    "print(np.percentile(new_ratings_2016['fandango'], 50))\n",
    "percentileofscore(a=new_ratings_2016['fandango'], score=4, kind='weak')"
   ]
  },
  {
   "cell_type": "code",
   "execution_count": 42,
   "metadata": {},
   "outputs": [
    {
     "name": "stdout",
     "output_type": "stream",
     "text": [
      "Frequency Table 2015\n",
      "---------------------------\n"
     ]
    },
    {
     "data": {
      "text/plain": [
       "3.0     8.527132\n",
       "3.5    17.829457\n",
       "4.0    28.682171\n",
       "4.5    37.984496\n",
       "5.0     6.976744\n",
       "Name: Fandango_Stars, dtype: float64"
      ]
     },
     "execution_count": 42,
     "metadata": {},
     "output_type": "execute_result"
    }
   ],
   "source": [
    "print('Frequency Table 2015')\n",
    "print('---------------------------')\n",
    "(orig_ratings_2015['Fandango_Stars'].value_counts(normalize=True)*100).sort_index()"
   ]
  },
  {
   "cell_type": "code",
   "execution_count": 43,
   "metadata": {},
   "outputs": [
    {
     "name": "stdout",
     "output_type": "stream",
     "text": [
      "Frequency Table 2016\n",
      "---------------------------\n"
     ]
    },
    {
     "data": {
      "text/plain": [
       "2.5     3.141361\n",
       "3.0     7.329843\n",
       "3.5    24.083770\n",
       "4.0    40.314136\n",
       "4.5    24.607330\n",
       "5.0     0.523560\n",
       "Name: fandango, dtype: float64"
      ]
     },
     "execution_count": 43,
     "metadata": {},
     "output_type": "execute_result"
    }
   ],
   "source": [
    "print('Frequency Table 2016')\n",
    "print('---------------------------')\n",
    "(new_ratings_2016['fandango'].value_counts(normalize=True)*100).sort_index()"
   ]
  },
  {
   "cell_type": "markdown",
   "metadata": {},
   "source": [
    "Looking at the frequency table it is clear that 2016 ratings are more distributed towards that lower and of the scale and less toward the right end.\n",
    "\n",
    "In other words there are more instances of movies rated 3.5 and lower and less rated 4 and higher.  "
   ]
  },
  {
   "cell_type": "markdown",
   "metadata": {},
   "source": [
    "## Direction of Difference ##\n",
    "\n"
   ]
  },
  {
   "cell_type": "code",
   "execution_count": 122,
   "metadata": {},
   "outputs": [
    {
     "data": {
      "text/html": [
       "<div>\n",
       "<style scoped>\n",
       "    .dataframe tbody tr th:only-of-type {\n",
       "        vertical-align: middle;\n",
       "    }\n",
       "\n",
       "    .dataframe tbody tr th {\n",
       "        vertical-align: top;\n",
       "    }\n",
       "\n",
       "    .dataframe thead th {\n",
       "        text-align: right;\n",
       "    }\n",
       "</style>\n",
       "<table border=\"1\" class=\"dataframe\">\n",
       "  <thead>\n",
       "    <tr style=\"text-align: right;\">\n",
       "      <th></th>\n",
       "      <th>2015</th>\n",
       "      <th>2016</th>\n",
       "    </tr>\n",
       "  </thead>\n",
       "  <tbody>\n",
       "    <tr>\n",
       "      <th>mean</th>\n",
       "      <td>4.085271</td>\n",
       "      <td>3.887435</td>\n",
       "    </tr>\n",
       "    <tr>\n",
       "      <th>median</th>\n",
       "      <td>4.000000</td>\n",
       "      <td>4.000000</td>\n",
       "    </tr>\n",
       "    <tr>\n",
       "      <th>mode</th>\n",
       "      <td>4.500000</td>\n",
       "      <td>4.000000</td>\n",
       "    </tr>\n",
       "  </tbody>\n",
       "</table>\n",
       "</div>"
      ],
      "text/plain": [
       "            2015      2016\n",
       "mean    4.085271  3.887435\n",
       "median  4.000000  4.000000\n",
       "mode    4.500000  4.000000"
      ]
     },
     "execution_count": 122,
     "metadata": {},
     "output_type": "execute_result"
    }
   ],
   "source": [
    "summary_2015_16 = dict()\n",
    "\n",
    "summary_2015_16['mean'] = [orig_ratings_2015['Fandango_Stars'].mean(),new_ratings_2016['fandango'].mean()]\n",
    "summary_2015_16['median'] = [orig_ratings_2015['Fandango_Stars'].median(), new_ratings_2016['fandango'].median()]\n",
    "summary_2015_16['mode'] = [orig_ratings_2015['Fandango_Stars'].mode().iloc[0], new_ratings_2016['fandango'].mode().iloc[0]] \n",
    "\n",
    "# df_sum_2015_16 = pd.DataFrame.from_dict(summary_2015_16, orient='index',columns=['2015','2016'])\n",
    "df_sum_2015_16 = pd.DataFrame.from_dict(summary_2015_16, orient='index')\n",
    "df_sum_2015_16.rename(columns={0:'2015',1:'2016'}, inplace=True)\n",
    "df_sum_2015_16\n",
    "\n"
   ]
  },
  {
   "cell_type": "code",
   "execution_count": 109,
   "metadata": {},
   "outputs": [
    {
     "data": {
      "image/png": "[encoded data removed]",
      "text/plain": [
       "<Figure size 720x432 with 1 Axes>"
      ]
     },
     "metadata": {},
     "output_type": "display_data"
    }
   ],
   "source": [
    "plt.style.use('fivethirtyeight')\n",
    "\n",
    "plt.figsize=(18,6)\n",
    "df_sum_2015_16.plot.bar(rot=0, figsize=(10,6))\n",
    "plt.title('Comparing Summary Statistics: 2015 vs 2016', fontsize=18)\n",
    "plt.legend(loc='upper center')\n",
    "plt.yticks(np.arange(0.0, 5.5, step=0.5))\n",
    "plt.ylabel('Stars')\n",
    "plt.show()"
   ]
  },
  {
   "cell_type": "code",
   "execution_count": 115,
   "metadata": {},
   "outputs": [
    {
     "data": {
      "text/plain": [
       "-4.842683568951993"
      ]
     },
     "execution_count": 115,
     "metadata": {},
     "output_type": "execute_result"
    }
   ],
   "source": [
    "# Calculate percentage change in mean\n",
    "((df_sum_2015_16['2016']['mean']-df_sum_2015_16['2015']['mean'])/df_sum_2015_16['2015']['mean'])*100"
   ]
  },
  {
   "cell_type": "markdown",
   "metadata": {},
   "source": [
    "# Conclusion #\n",
    "\n",
    "We can now clearly see that overall distribution has shifted to the left which is clear in key summary statistics.  Whilst most of the cases still fell within 4 stars there has been about 5% decrease in average ratings.  \n",
    "\n",
    "This however does not answer the question for the reason of the change in ratings.  It can be because rating algorithm was adjusted.  It can also be because selection of movies in 2016 was less popular.  Or there can be some other reason.  "
   ]
  },
  {
   "cell_type": "code",
   "execution_count": null,
   "metadata": {},
   "outputs": [],
   "source": []
  }
 ],
 "metadata": {
  "kernelspec": {
   "display_name": "Python 3",
   "language": "python",
   "name": "python3"
  },
  "language_info": {
   "codemirror_mode": {
    "name": "ipython",
    "version": 3
   },
   "file_extension": ".py",
   "mimetype": "text/x-python",
   "name": "python",
   "nbconvert_exporter": "python",
   "pygments_lexer": "ipython3",
   "version": "3.8.3"
  }
 },
 "nbformat": 4,
 "nbformat_minor": 2
}
